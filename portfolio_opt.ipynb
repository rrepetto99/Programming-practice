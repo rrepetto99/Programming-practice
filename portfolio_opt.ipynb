{
 "cells": [
  {
   "cell_type": "code",
   "execution_count": 1,
   "metadata": {},
   "outputs": [],
   "source": [
    "import pandas as pd\n",
    "import yfinance as yf\n",
    "import numpy as np\n",
    "from scipy import stats\n",
    "from scipy.optimize import minimize"
   ]
  },
  {
   "cell_type": "markdown",
   "metadata": {},
   "source": [
    "# Step 1 - Download data"
   ]
  },
  {
   "cell_type": "code",
   "execution_count": 39,
   "metadata": {},
   "outputs": [],
   "source": [
    "tickers = ['AAPL', 'NVDA', 'PFE', 'META', 'JNJ', 'SPY']"
   ]
  },
  {
   "cell_type": "code",
   "execution_count": 40,
   "metadata": {},
   "outputs": [
    {
     "name": "stderr",
     "output_type": "stream",
     "text": [
      "[*********************100%***********************]  6 of 6 completed"
     ]
    },
    {
     "name": "stdout",
     "output_type": "stream",
     "text": [
      "Ticker          AAPL       JNJ      META      NVDA       PFE       SPY\n",
      "Date                                                                  \n",
      "2018-08-31  0.200422  0.023148  0.018253  0.146915  0.048673  0.031920\n",
      "2018-09-30 -0.008303  0.025837 -0.064132  0.001211  0.061416  0.005945\n",
      "2018-10-31 -0.030478  0.013172 -0.077040 -0.249769 -0.022918 -0.069104\n",
      "2018-11-30 -0.181198  0.056043 -0.073654 -0.224050  0.081903  0.018549\n",
      "2018-12-31 -0.116698 -0.121511 -0.067705 -0.183136 -0.055808 -0.088048\n"
     ]
    },
    {
     "name": "stderr",
     "output_type": "stream",
     "text": [
      "\n"
     ]
    }
   ],
   "source": [
    "prices = yf.download(tickers, start = '2013-01-01', end = '2019-01-01')\n",
    "prices = prices.resample('ME').last()\n",
    "ret = prices['Close'].pct_change()[1:]\n",
    "print(ret.tail())"
   ]
  },
  {
   "cell_type": "markdown",
   "metadata": {},
   "source": [
    "# Sample statistics"
   ]
  },
  {
   "cell_type": "code",
   "execution_count": 51,
   "metadata": {},
   "outputs": [
    {
     "name": "stdout",
     "output_type": "stream",
     "text": [
      "          Mean  Variance      Beta\n",
      "AAPL  0.016851  0.005383  1.221579\n",
      "NVDA  0.011060  0.001646  0.791564\n",
      "PFE   0.024189  0.008211  0.755036\n",
      "META  0.041021  0.012284  1.787728\n",
      "JNJ   0.010443  0.001909  0.855174\n",
      "SPY   0.009405  0.000947  1.000000\n"
     ]
    }
   ],
   "source": [
    "#Mean, Variance, and Beta\n",
    "retmean_SPY = ret['SPY'].mean()\n",
    "retvar_SPY = ret['SPY'].var()\n",
    "beta_SPY = stats.linregress(ret['SPY'],ret['SPY']).slope\n",
    "\n",
    "retmean_AAPL = ret['AAPL'].mean()\n",
    "retvar_AAPL = ret['AAPL'].var()\n",
    "beta_AAPL = stats.linregress(ret['SPY'],ret['AAPL']).slope\n",
    "\n",
    "retmean_NVDA = ret['NVDA'].mean()\n",
    "retvar_NVDA = ret['NVDA'].var()\n",
    "beta_NVDA = stats.linregress(ret['SPY'],ret['NVDA']).slope\n",
    "\n",
    "retmean_PFE = ret['PFE'].mean()\n",
    "retvar_PFE = ret['PFE'].var()\n",
    "beta_PFE = stats.linregress(ret['SPY'],ret['PFE']).slope\n",
    "\n",
    "retmean_JNJ = ret['JNJ'].mean()\n",
    "retvar_JNJ = ret['JNJ'].var()\n",
    "beta_JNJ = stats.linregress(ret['SPY'],ret['JNJ']).slope\n",
    "\n",
    "retmean_META = ret['META'].mean()\n",
    "retvar_META = ret['META'].var()\n",
    "beta_META = stats.linregress(ret['SPY'],ret['META']).slope\n",
    "\n",
    "retmean = np.array([retmean_AAPL, retmean_JNJ, retmean_META, retmean_NVDA, retmean_PFE,  retmean_SPY])\n",
    "retvar = np.array([retvar_AAPL, retvar_JNJ, retvar_META, retvar_NVDA, retvar_PFE, retvar_SPY])\n",
    "betas = np.array([beta_AAPL, beta_JNJ, beta_META, beta_NVDA, beta_PFE, beta_SPY])\n",
    "\n",
    "df = pd.DataFrame({'Mean': retmean, 'Variance': retvar, 'Beta': betas}, index=tickers)\n",
    "\n",
    "print(df)\n",
    "\n"
   ]
  },
  {
   "cell_type": "code",
   "execution_count": null,
   "metadata": {},
   "outputs": [],
   "source": []
  },
  {
   "cell_type": "code",
   "execution_count": null,
   "metadata": {},
   "outputs": [],
   "source": []
  }
 ],
 "metadata": {
  "kernelspec": {
   "display_name": "Python 3",
   "language": "python",
   "name": "python3"
  },
  "language_info": {
   "codemirror_mode": {
    "name": "ipython",
    "version": 3
   },
   "file_extension": ".py",
   "mimetype": "text/x-python",
   "name": "python",
   "nbconvert_exporter": "python",
   "pygments_lexer": "ipython3",
   "version": "3.12.8"
  }
 },
 "nbformat": 4,
 "nbformat_minor": 2
}
