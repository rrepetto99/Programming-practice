{
 "cells": [
  {
   "cell_type": "code",
   "execution_count": 1,
   "metadata": {},
   "outputs": [],
   "source": [
    "import pandas as pd\n",
    "import yfinance as yf\n",
    "import numpy as np\n",
    "from scipy import stats\n",
    "from scipy.optimize import minimize"
   ]
  },
  {
   "cell_type": "markdown",
   "metadata": {},
   "source": [
    "# Step 1 - Download data"
   ]
  },
  {
   "cell_type": "code",
   "execution_count": 4,
   "metadata": {},
   "outputs": [],
   "source": [
    "tickers = ['AAPL', 'NVDA', 'PFE', 'AMZN', 'META', 'JNJ']"
   ]
  },
  {
   "cell_type": "code",
   "execution_count": 14,
   "metadata": {},
   "outputs": [
    {
     "name": "stderr",
     "output_type": "stream",
     "text": [
      "[*********************100%***********************]  6 of 6 completed"
     ]
    },
    {
     "name": "stdout",
     "output_type": "stream",
     "text": [
      "Ticker          AAPL      AMZN       JNJ      META      NVDA       PFE\n",
      "Date                                                                  \n",
      "2018-08-31  0.200422  0.132364  0.023148  0.018253  0.146915  0.048673\n",
      "2018-09-30 -0.008303 -0.004824  0.025837 -0.064132  0.001211  0.061416\n",
      "2018-10-31 -0.030478 -0.202192  0.013172 -0.077040 -0.249769 -0.022918\n",
      "2018-11-30 -0.181198  0.057672  0.056043 -0.073654 -0.224050  0.081903\n",
      "2018-12-31 -0.116698 -0.111350 -0.121511 -0.067705 -0.183136 -0.055808\n"
     ]
    },
    {
     "name": "stderr",
     "output_type": "stream",
     "text": [
      "\n"
     ]
    }
   ],
   "source": [
    "prices = yf.download(tickers, start = '2013-01-01', end = '2019-01-01')\n",
    "prices = prices.resample('ME').last()\n",
    "ret = prices['Close'].pct_change()[1:]\n",
    "print(ret.tail())"
   ]
  },
  {
   "cell_type": "markdown",
   "metadata": {},
   "source": []
  },
  {
   "cell_type": "markdown",
   "metadata": {},
   "source": [
    "# Sample statistics"
   ]
  },
  {
   "cell_type": "code",
   "execution_count": null,
   "metadata": {},
   "outputs": [],
   "source": []
  }
 ],
 "metadata": {
  "kernelspec": {
   "display_name": "Python 3",
   "language": "python",
   "name": "python3"
  },
  "language_info": {
   "codemirror_mode": {
    "name": "ipython",
    "version": 3
   },
   "file_extension": ".py",
   "mimetype": "text/x-python",
   "name": "python",
   "nbconvert_exporter": "python",
   "pygments_lexer": "ipython3",
   "version": "3.12.8"
  }
 },
 "nbformat": 4,
 "nbformat_minor": 2
}
