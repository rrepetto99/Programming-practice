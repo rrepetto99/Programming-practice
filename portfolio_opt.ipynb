{
 "cells": [
  {
   "cell_type": "code",
   "execution_count": 275,
   "metadata": {},
   "outputs": [],
   "source": [
    "import pandas as pd\n",
    "import yfinance as yf\n",
    "import numpy as np\n",
    "from scipy import stats\n",
    "from scipy.optimize import minimize"
   ]
  },
  {
   "cell_type": "markdown",
   "metadata": {},
   "source": [
    "# Step 1 - Download data"
   ]
  },
  {
   "cell_type": "code",
   "execution_count": 276,
   "metadata": {},
   "outputs": [],
   "source": [
    "tickers = ['AAPL', 'JNJ', 'META', 'NVDA', 'PFE', 'SPY']"
   ]
  },
  {
   "cell_type": "code",
   "execution_count": 277,
   "metadata": {},
   "outputs": [
    {
     "name": "stderr",
     "output_type": "stream",
     "text": [
      "[*********************100%***********************]  6 of 6 completed"
     ]
    },
    {
     "name": "stdout",
     "output_type": "stream",
     "text": [
      "Ticker          AAPL       JNJ      META      NVDA       PFE       SPY\n",
      "Date                                                                  \n",
      "2018-08-31  0.200422  0.023148  0.018253  0.146915  0.048673  0.031920\n",
      "2018-09-30 -0.008303  0.025837 -0.064132  0.001211  0.061416  0.005945\n",
      "2018-10-31 -0.030478  0.013172 -0.077040 -0.249769 -0.022918 -0.069104\n",
      "2018-11-30 -0.181198  0.056043 -0.073654 -0.224050  0.081903  0.018549\n",
      "2018-12-31 -0.116698 -0.121511 -0.067705 -0.183136 -0.055808 -0.088048\n"
     ]
    },
    {
     "name": "stderr",
     "output_type": "stream",
     "text": [
      "\n"
     ]
    }
   ],
   "source": [
    "prices = yf.download(tickers, start = '2013-01-01', end = '2019-01-01')\n",
    "prices = prices.resample('ME').last()\n",
    "ret = prices['Close'].pct_change()[1:]\n",
    "print(ret.tail())"
   ]
  },
  {
   "cell_type": "code",
   "execution_count": 278,
   "metadata": {},
   "outputs": [],
   "source": [
    "ret = ret.dropna()"
   ]
  },
  {
   "cell_type": "markdown",
   "metadata": {},
   "source": [
    "# Step 2 -Sample statistics"
   ]
  },
  {
   "cell_type": "code",
   "execution_count": 279,
   "metadata": {},
   "outputs": [],
   "source": [
    "#Mean, Variance, and Beta\n",
    "retmean_SPY = ret['SPY'].mean()\n",
    "retvar_SPY = ret['SPY'].var()\n",
    "beta_SPY = stats.linregress(ret['SPY'],ret['SPY']).slope\n",
    "\n",
    "retmean_AAPL = ret['AAPL'].mean()\n",
    "retvar_AAPL = ret['AAPL'].var()\n",
    "beta_AAPL = stats.linregress(ret['SPY'],ret['AAPL']).slope\n",
    "\n",
    "retmean_NVDA = ret['NVDA'].mean()\n",
    "retvar_NVDA = ret['NVDA'].var()\n",
    "beta_NVDA = stats.linregress(ret['SPY'],ret['NVDA']).slope\n",
    "\n",
    "retmean_PFE = ret['PFE'].mean()\n",
    "retvar_PFE = ret['PFE'].var()\n",
    "beta_PFE = stats.linregress(ret['SPY'],ret['PFE']).slope\n",
    "\n",
    "retmean_JNJ = ret['JNJ'].mean()\n",
    "retvar_JNJ = ret['JNJ'].var()\n",
    "beta_JNJ = stats.linregress(ret['SPY'],ret['JNJ']).slope\n",
    "\n",
    "retmean_META = ret['META'].mean()\n",
    "retvar_META = ret['META'].var()\n",
    "beta_META = stats.linregress(ret['SPY'],ret['META']).slope\n",
    "\n",
    "retmean = np.array([retmean_AAPL, retmean_JNJ, retmean_META, retmean_NVDA, retmean_PFE,  retmean_SPY])\n",
    "retvar = np.array([retvar_AAPL, retvar_JNJ, retvar_META, retvar_NVDA, retvar_PFE, retvar_SPY])\n",
    "betas = np.array([beta_AAPL, beta_JNJ, beta_META, beta_NVDA, beta_PFE, beta_SPY])"
   ]
  },
  {
   "cell_type": "code",
   "execution_count": 280,
   "metadata": {},
   "outputs": [],
   "source": [
    "#CAPM to find alphas\n",
    "\n",
    "r_free = 0.01\n",
    "\n",
    "alpha_AAPL = retmean_AAPL - r_free - beta_AAPL*(retmean_SPY - r_free)\n",
    "alpha_NVDA = retmean_NVDA - r_free - beta_NVDA*(retmean_SPY - r_free)\n",
    "alpha_PFE = retmean_PFE - r_free - beta_PFE*(retmean_SPY - r_free)\n",
    "alpha_META = retmean_META - r_free - beta_META*(retmean_SPY - r_free)\n",
    "alpha_JNJ = retmean_JNJ - r_free - beta_JNJ*(retmean_SPY - r_free)\n",
    "alpha_SPY = retmean_SPY - r_free - beta_SPY*(retmean_SPY - r_free)\n",
    "alphas = np.array([alpha_AAPL, alpha_JNJ, alpha_META, alpha_NVDA, alpha_PFE, alpha_SPY])\n"
   ]
  },
  {
   "cell_type": "code",
   "execution_count": 281,
   "metadata": {},
   "outputs": [
    {
     "name": "stdout",
     "output_type": "stream",
     "text": [
      "          Mean  Variance      Beta     Alpha  Idio Risk\n",
      "AAPL  0.016851  0.005383  1.221579  0.007579   0.003970\n",
      "JNJ   0.011060  0.001646  0.791564  0.001531   0.001052\n",
      "META  0.024189  0.008211  0.755036  0.014638   0.007671\n",
      "NVDA  0.041021  0.012284  1.787728  0.032085   0.009256\n",
      "PFE   0.010443  0.001909  0.855174  0.000952   0.001216\n",
      "SPY   0.009405  0.000947  1.000000  0.000000   0.000000\n"
     ]
    }
   ],
   "source": [
    "# Idiosyncratic Risk\n",
    "idio_risk_AAPL = retvar_AAPL - np.square(beta_AAPL)*retvar_SPY\n",
    "idio_risk_JNJ = retvar_JNJ - np.square(beta_JNJ)*retvar_SPY\n",
    "idio_risk_META = retvar_META - np.square(beta_META)*retvar_SPY\n",
    "idio_risk_NVDA = retvar_NVDA - np.square(beta_NVDA)*retvar_SPY\n",
    "idio_risk_PFE = retvar_PFE- np.square(beta_PFE)*retvar_SPY\n",
    "idio_risk_SPY = retvar_SPY - np.square(beta_SPY)*retvar_SPY\n",
    "\n",
    "idio_risks = np.array([idio_risk_AAPL, idio_risk_JNJ, idio_risk_META, idio_risk_NVDA, idio_risk_PFE, idio_risk_SPY])\n",
    "\n",
    "df = pd.DataFrame({'Mean': retmean, 'Variance': retvar, 'Beta': betas, 'Alpha': alphas, 'Idio Risk':idio_risks}, index=tickers)\n",
    "print(df)"
   ]
  },
  {
   "cell_type": "markdown",
   "metadata": {},
   "source": [
    "# Step 3 - Portfolio's E(R), SD, SR"
   ]
  },
  {
   "cell_type": "code",
   "execution_count": 282,
   "metadata": {},
   "outputs": [
    {
     "name": "stdout",
     "output_type": "stream",
     "text": [
      "Ticker      AAPL       JNJ      META      NVDA       PFE       SPY\n",
      "Ticker                                                            \n",
      "AAPL    0.064599  0.008506  0.020929  0.043347  0.005524  0.013887\n",
      "JNJ     0.008506  0.019748  0.002354  0.006513  0.012566  0.008999\n",
      "META    0.020929  0.002354  0.098527  0.013013  0.002904  0.008584\n",
      "NVDA    0.043347  0.006513  0.013013  0.147406  0.004451  0.020324\n",
      "PFE     0.005524  0.012566  0.002904  0.004451  0.022906  0.009722\n",
      "SPY     0.013887  0.008999  0.008584  0.020324  0.009722  0.011368\n"
     ]
    }
   ],
   "source": [
    "# Variance - Covariance Matrix\n",
    "\n",
    "cov = ret.cov() * 12 # Annualize the covariance matrix\n",
    "print(cov)"
   ]
  },
  {
   "cell_type": "code",
   "execution_count": 283,
   "metadata": {},
   "outputs": [],
   "source": [
    "# We calculte portfolio's standard deviation\n",
    "\n",
    "def standard_deviation(weights, cov):\n",
    "    variance = weights.T @ cov @ weights\n",
    "    return np.sqrt(variance)\n",
    "\n"
   ]
  },
  {
   "cell_type": "code",
   "execution_count": 284,
   "metadata": {},
   "outputs": [],
   "source": [
    "# We calculate portfolio's expected return\n",
    "def expected_return(weights, retmean):\n",
    "    return weights @ retmean * 12 # Annualize the expoected return"
   ]
  },
  {
   "cell_type": "code",
   "execution_count": 285,
   "metadata": {},
   "outputs": [],
   "source": [
    "# We calculate portfolio's Sharpe Ratio\n",
    "def sharpe_ratio(weights, retmean, cov, r_free):\n",
    "    return(expected_return(weights, retmean) - r_free) / standard_deviation(weights, cov)"
   ]
  },
  {
   "cell_type": "markdown",
   "metadata": {},
   "source": [
    "# Step 4 - Optimization"
   ]
  },
  {
   "cell_type": "code",
   "execution_count": 286,
   "metadata": {},
   "outputs": [
    {
     "name": "stdout",
     "output_type": "stream",
     "text": [
      "0.043899999999999995\n"
     ]
    }
   ],
   "source": [
    "# We retrieve risk free rate from FED\n",
    "from fredapi import Fred\n",
    "\n",
    "fred = Fred(api_key = 'dc20e57c84606fbf0c666d5255182c4b')\n",
    "ten_year_treasury_rate = fred.get_series_latest_release('GS10')/100\n",
    "\n",
    "risk_free_rate = ten_year_treasury_rate.iloc[-1]\n",
    "print(risk_free_rate)"
   ]
  },
  {
   "cell_type": "code",
   "execution_count": 287,
   "metadata": {},
   "outputs": [],
   "source": [
    "# Negative SR function because there is no maximization function in scipy\n",
    "\n",
    "def negative_sharpe_ratio(weights, retmean, cov, risk_free_rate):\n",
    "    return -sharpe_ratio(weights, retmean, cov, risk_free_rate)"
   ]
  },
  {
   "cell_type": "code",
   "execution_count": 288,
   "metadata": {},
   "outputs": [],
   "source": [
    "# We set the constraints for the optimization\n",
    "\n",
    "constraints = {'type' : 'eq', 'fun' : lambda weights: np.sum(weights) - 1}\n",
    "bounds = [(0,0.20) for i in range(len(tickers))]"
   ]
  },
  {
   "cell_type": "code",
   "execution_count": 289,
   "metadata": {},
   "outputs": [
    {
     "name": "stdout",
     "output_type": "stream",
     "text": [
      "[0.16666667 0.16666667 0.16666667 0.16666667 0.16666667 0.16666667]\n"
     ]
    }
   ],
   "source": [
    "# We set initial weights\n",
    "initial_weights = np.array([1/len(tickers)]*len(tickers))\n",
    "print(initial_weights)"
   ]
  },
  {
   "cell_type": "code",
   "execution_count": 290,
   "metadata": {},
   "outputs": [],
   "source": [
    "# we optimize weights\n",
    "\n",
    "optimized_weights = minimize(negative_sharpe_ratio, initial_weights, args=(retmean, cov, risk_free_rate), method='SLSQP', constraints=constraints, bounds=bounds)"
   ]
  },
  {
   "cell_type": "code",
   "execution_count": 291,
   "metadata": {},
   "outputs": [],
   "source": [
    "# We print optimal weights\n",
    "\n",
    "optimal_weights = optimized_weights.x # x is to access the optimal weights"
   ]
  },
  {
   "cell_type": "markdown",
   "metadata": {},
   "source": []
  },
  {
   "cell_type": "markdown",
   "metadata": {},
   "source": [
    "# Step 5 - display analytics of optimal portfolio"
   ]
  },
  {
   "cell_type": "code",
   "execution_count": 292,
   "metadata": {},
   "outputs": [
    {
     "name": "stdout",
     "output_type": "stream",
     "text": [
      "Optimal Weights\n",
      "AAPL:  5.615%\n",
      "JNJ:  20.000%\n",
      "META:  20.000%\n",
      "NVDA:  20.000%\n",
      "PFE:  20.000%\n",
      "SPY:  14.385%\n",
      "\n",
      "Expected Annual Return:  23.5698%\n",
      "Expected Volatility:  14.16%\n",
      "Expected Annual Return:  1.3545\n"
     ]
    }
   ],
   "source": [
    "print(\"Optimal Weights\")\n",
    "\n",
    "for tickers, weight in zip(tickers, optimal_weights):\n",
    "    print(f\"{tickers}: {weight: .3%}\") \n",
    "\n",
    "print()\n",
    "\n",
    "optimal_portfolio_return =expected_return(optimal_weights, retmean)\n",
    "optimal_portfolio_volatility =standard_deviation(optimal_weights, cov)\n",
    "optimal_sharpe_ratio = sharpe_ratio(optimal_weights, retmean, cov, risk_free_rate)\n",
    "\n",
    "print(f\"Expected Annual Return: {optimal_portfolio_return: .4%}\")\n",
    "print(f\"Expected Volatility: {optimal_portfolio_volatility: .2%}\")\n",
    "print(f\"Expected Annual Return: {optimal_sharpe_ratio: .4f}\")"
   ]
  },
  {
   "cell_type": "markdown",
   "metadata": {},
   "source": [
    "# Step 6 - Plotting"
   ]
  },
  {
   "cell_type": "code",
   "execution_count": 293,
   "metadata": {},
   "outputs": [
    {
     "data": {
      "image/png": "[encoded data removed]",
      "text/plain": [
       "<Figure size 1000x600 with 1 Axes>"
      ]
     },
     "metadata": {},
     "output_type": "display_data"
    }
   ],
   "source": [
    "import matplotlib.pyplot as plt\n",
    "\n",
    "plt.figure(figsize=(10,6))\n",
    "plt.bar(tickers, optimal_weights)\n",
    "\n",
    "#Add labels\n",
    "plt.xlabel('Stocks')\n",
    "plt.ylabel('Optimal Weights')\n",
    "plt.title('Optimal Portfolio Weights')\n",
    "\n",
    "plt.show()"
   ]
  },
  {
   "cell_type": "code",
   "execution_count": null,
   "metadata": {},
   "outputs": [],
   "source": []
  }
 ],
 "metadata": {
  "kernelspec": {
   "display_name": "Python 3",
   "language": "python",
   "name": "python3"
  },
  "language_info": {
   "codemirror_mode": {
    "name": "ipython",
    "version": 3
   },
   "file_extension": ".py",
   "mimetype": "text/x-python",
   "name": "python",
   "nbconvert_exporter": "python",
   "pygments_lexer": "ipython3",
   "version": "3.12.8"
  }
 },
 "nbformat": 4,
 "nbformat_minor": 2
}
