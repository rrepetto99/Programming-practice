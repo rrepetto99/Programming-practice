{
 "cells": [
  {
   "cell_type": "code",
   "execution_count": 3,
   "metadata": {},
   "outputs": [
    {
     "name": "stdout",
     "output_type": "stream",
     "text": [
      "Requirement already satisfied: ace-tools in /Library/Frameworks/Python.framework/Versions/3.12/lib/python3.12/site-packages (0.0)\n",
      "Note: you may need to restart the kernel to use updated packages.\n"
     ]
    }
   ],
   "source": [
    "%pip install ace-tools"
   ]
  },
  {
   "cell_type": "code",
   "execution_count": 4,
   "metadata": {},
   "outputs": [],
   "source": [
    "import pandas as pd\n",
    "import yfinance as yf\n",
    "import numpy as np\n",
    "from scipy import stats \n"
   ]
  },
  {
   "cell_type": "code",
   "execution_count": 5,
   "metadata": {},
   "outputs": [],
   "source": [
    "from datetime import datetime, timedelta\n"
   ]
  },
  {
   "cell_type": "markdown",
   "metadata": {},
   "source": [
    "# STEP 1 - We retrieve data from constituents"
   ]
  },
  {
   "cell_type": "code",
   "execution_count": 12,
   "metadata": {},
   "outputs": [
    {
     "name": "stderr",
     "output_type": "stream",
     "text": [
      "[*********************100%***********************]  1 of 1 completed\n",
      "[*********************100%***********************]  1 of 1 completed\n",
      "[*********************100%***********************]  1 of 1 completed\n",
      "[*********************100%***********************]  1 of 1 completed\n",
      "[*********************100%***********************]  1 of 1 completed\n",
      "[*********************100%***********************]  1 of 1 completed\n",
      "[*********************100%***********************]  1 of 1 completed\n",
      "[*********************100%***********************]  1 of 1 completed\n",
      "[*********************100%***********************]  1 of 1 completed\n",
      "[*********************100%***********************]  1 of 1 completed\n",
      "[*********************100%***********************]  1 of 1 completed\n",
      "[*********************100%***********************]  1 of 1 completed\n",
      "[*********************100%***********************]  1 of 1 completed\n",
      "[*********************100%***********************]  1 of 1 completed\n",
      "[*********************100%***********************]  1 of 1 completed\n",
      "[*********************100%***********************]  1 of 1 completed\n",
      "[*********************100%***********************]  1 of 1 completed\n",
      "[*********************100%***********************]  1 of 1 completed\n",
      "[*********************100%***********************]  1 of 1 completed\n",
      "[*********************100%***********************]  1 of 1 completed\n",
      "/var/folders/dw/93tk385j54q9dmq3f082vbnm0000gn/T/ipykernel_1820/3932919415.py:47: FutureWarning: A value is trying to be set on a copy of a DataFrame or Series through chained assignment using an inplace method.\n",
      "The behavior will change in pandas 3.0. This inplace method will never work because the intermediate object on which we are setting values always behaves as a copy.\n",
      "\n",
      "For example, when doing 'df[col].method(value, inplace=True)', try using 'df.method({col: value}, inplace=True)' or df[col] = df[col].method(value) instead, to perform the operation inplace on the original object.\n",
      "\n",
      "\n",
      "  smi_data['Daily Returns'].fillna(0, inplace=True)\n"
     ]
    },
    {
     "name": "stdout",
     "output_type": "stream",
     "text": [
      "           Date      Close   Ticker            Close.1           Close.2  \\\n",
      "7561 2020-02-06  95.634193  ABBN.SW  286.9454650878906  72.7799072265625   \n",
      "7562 2020-02-07  95.634193  ABBN.SW  286.9454650878906  72.7799072265625   \n",
      "7563 2020-02-10  95.634193  ABBN.SW  286.9454650878906  72.7799072265625   \n",
      "7564 2020-02-11  95.634193  ABBN.SW  286.9454650878906  72.7799072265625   \n",
      "7565 2020-02-12  95.634193  ABBN.SW  286.9454650878906  72.7799072265625   \n",
      "\n",
      "                Close.3             Close.4            Close.5  \\\n",
      "7561  68.86712646484375  316.98468017578125  9.723685264587402   \n",
      "7562  68.86712646484375  316.98468017578125  9.723685264587402   \n",
      "7563  68.86712646484375  316.98468017578125  9.723685264587402   \n",
      "7564  68.86712646484375  316.98468017578125  9.723685264587402   \n",
      "7565  68.86712646484375  316.98468017578125  9.723685264587402   \n",
      "\n",
      "                 Close.6            Close.7  ...           Close.11  \\\n",
      "7561  19.292266845703125  393.9654846191406  ...  40.24846267700195   \n",
      "7562  19.052608489990234  393.9654846191406  ...  40.24846267700195   \n",
      "7563  18.956748962402344  393.9654846191406  ...  40.24846267700195   \n",
      "7564  19.292266845703125  393.9654846191406  ...  40.24846267700195   \n",
      "7565  19.252323150634766  393.9654846191406  ...  40.24846267700195   \n",
      "\n",
      "              Close.12           Close.13           Close.14  \\\n",
      "7561  446.566162109375  774.4826049804688  78.79821014404297   \n",
      "7562  446.566162109375  774.4826049804688  78.79821014404297   \n",
      "7563  446.566162109375  774.4826049804688  78.79821014404297   \n",
      "7564  446.566162109375  774.4826049804688  78.79821014404297   \n",
      "7565  446.566162109375  774.4826049804688  78.79821014404297   \n",
      "\n",
      "               Close.15            Close.16            Close.17  \\\n",
      "7561  234.3276824951172  466.62762451171875  394.27606201171875   \n",
      "7562  234.3276824951172  466.62762451171875  394.27606201171875   \n",
      "7563  234.3276824951172  466.62762451171875  394.27606201171875   \n",
      "7564  234.3276824951172  466.62762451171875  394.27606201171875   \n",
      "7565  234.3276824951172  466.62762451171875  394.27606201171875   \n",
      "\n",
      "               Close.18            Close.19 Daily Returns  \n",
      "7561  41.35723114013672  134.71905517578125           0.0  \n",
      "7562  41.35723114013672  134.71905517578125           0.0  \n",
      "7563  41.35723114013672  134.71905517578125           0.0  \n",
      "7564  41.35723114013672  134.71905517578125           0.0  \n",
      "7565  41.35723114013672  134.71905517578125           0.0  \n",
      "\n",
      "[5 rows x 23 columns]\n"
     ]
    }
   ],
   "source": [
    "# Load Swiss Market Index (SMI) constituents from Wikipedia\n",
    "url = \"https://en.wikipedia.org/wiki/Swiss_Market_Index\"\n",
    "tables = pd.read_html(url)\n",
    "smi_constituents = tables[2]\n",
    "\n",
    "# Save the tickers list\n",
    "smi_constituents.to_csv('smi_constituents.csv', index=False)\n",
    "\n",
    "# Initialize an empty dictionary for stock data\n",
    "all_ticker_data = {}\n",
    "start_date = datetime.now() - timedelta(days=365*5)  # 5 years of data\n",
    "\n",
    "# Download stock data from Yahoo Finance for each SMI constituent\n",
    "for ticker in smi_constituents['Ticker']:\n",
    "    try:\n",
    "        ticker_data = yf.download(ticker, start=start_date)[['Close']]\n",
    "        ticker_data['Ticker'] = ticker  # Add ticker column\n",
    "        all_ticker_data[ticker] = ticker_data\n",
    "    except Exception as e:\n",
    "        print(f\"Error downloading data for {ticker}: {str(e)}\")\n",
    "\n",
    "# Combine all stock data into a single dataframe in long format\n",
    "smi_data = pd.concat(all_ticker_data.values())\n",
    "\n",
    "# Reset the index and save to CSV\n",
    "smi_data.reset_index(inplace=True)\n",
    "smi_data.to_csv('smi_stock_data_long_format.csv', index=False)\n",
    "\n",
    "# Reload data\n",
    "smi_data = pd.read_csv('smi_stock_data_long_format.csv')\n",
    "\n",
    "# Convert Date to datetime and Close to numeric type\n",
    "smi_data['Date'] = pd.to_datetime(smi_data['Date'])\n",
    "smi_data['Close'] = pd.to_numeric(smi_data['Close'], errors='coerce')\n",
    "\n",
    "# Sort the dataframe correctly\n",
    "smi_data.sort_values(by=['Ticker', 'Date'], inplace=True)\n",
    "\n",
    "# Ensure there are no missing values\n",
    "smi_data.ffill(inplace=True)\n",
    "smi_data.bfill(inplace=True)\n",
    "\n",
    "# Create a new column for daily returns\n",
    "smi_data['Daily Returns'] = smi_data.groupby('Ticker')['Close'].pct_change()\n",
    "\n",
    "# Fill missing values in Daily Returns\n",
    "smi_data['Daily Returns'].fillna(0, inplace=True)\n",
    "\n",
    "# Save the processed dataframe in correct long format\n",
    "smi_data.to_csv('smi_stock_data_processed_long_format.csv', index=False)\n",
    "\n",
    "# Print first few rows to verify the structure\n",
    "print(smi_data.head())\n",
    "\n"
   ]
  },
  {
   "cell_type": "code",
   "execution_count": 8,
   "metadata": {},
   "outputs": [
    {
     "name": "stdout",
     "output_type": "stream",
     "text": [
      "           Date      Close   Ticker            Close.1            Close.2  \\\n",
      "7561 2020-02-06  95.634193  ABBN.SW  286.9454650878906   72.7799072265625   \n",
      "7562 2020-02-07  95.634193  ABBN.SW  286.9454650878906   72.7799072265625   \n",
      "7563 2020-02-10  95.634193  ABBN.SW  286.9454650878906   72.7799072265625   \n",
      "7564 2020-02-11  95.634193  ABBN.SW  286.9454650878906   72.7799072265625   \n",
      "7565 2020-02-12  95.634193  ABBN.SW  286.9454650878906   72.7799072265625   \n",
      "...         ...        ...      ...                ...                ...   \n",
      "6297 2025-01-30  77.459999  ZURN.SW              286.0  95.58999633789062   \n",
      "6298 2025-01-31  77.459999  ZURN.SW              286.0  95.58999633789062   \n",
      "6299 2025-02-03  77.459999  ZURN.SW              286.0  95.58999633789062   \n",
      "6300 2025-02-04  77.459999  ZURN.SW              286.0  95.58999633789062   \n",
      "0    2025-02-04  77.459999  ZURN.SW             ROG.SW            NOVN.SW   \n",
      "\n",
      "                Close.3            Close.4             Close.5  \\\n",
      "7561     67.98193359375  316.9847106933594   9.723686218261719   \n",
      "7562     67.98193359375  316.9847106933594   9.723686218261719   \n",
      "7563     67.98193359375  316.9847106933594   9.723686218261719   \n",
      "7564     67.98193359375  316.9847106933594   9.723686218261719   \n",
      "7565     67.98193359375  316.9847106933594   9.723686218261719   \n",
      "...                 ...                ...                 ...   \n",
      "6297  176.3000030517578  556.7999877929688  29.549999237060547   \n",
      "6298  176.3000030517578  553.7999877929688  29.549999237060547   \n",
      "6299  176.3000030517578  553.2000122070312  29.549999237060547   \n",
      "6300  176.3000030517578              557.0  29.549999237060547   \n",
      "0                CFR.SW            ZURN.SW             UBSG.SW   \n",
      "\n",
      "                 Close.6            Close.7  ...           Close.11  \\\n",
      "7561  19.292264938354492  393.9654846191406  ...  40.24846649169922   \n",
      "7562  19.052610397338867  393.9654846191406  ...  40.24846649169922   \n",
      "7563  18.956750869750977  393.9654846191406  ...  40.24846649169922   \n",
      "7564  19.292264938354492  393.9654846191406  ...  40.24846649169922   \n",
      "7565    19.2523250579834  393.9654846191406  ...  40.24846649169922   \n",
      "...                  ...                ...  ...                ...   \n",
      "6297  49.349998474121094              606.0  ...  90.44000244140625   \n",
      "6298  49.349998474121094              606.0  ...  90.44000244140625   \n",
      "6299  49.349998474121094              606.0  ...  90.44000244140625   \n",
      "6300  49.349998474121094              606.0  ...  90.44000244140625   \n",
      "0                ABBN.SW            LONN.SW  ...            HOLN.SW   \n",
      "\n",
      "               Close.12          Close.13           Close.14  \\\n",
      "7561  446.5661926269531  774.482666015625  78.79821014404297   \n",
      "7562  446.5661926269531  774.482666015625  78.79821014404297   \n",
      "7563  446.5661926269531  774.482666015625  78.79821014404297   \n",
      "7564  446.5661926269531  774.482666015625  78.79821014404297   \n",
      "7565  446.5661926269531  774.482666015625  78.79821014404297   \n",
      "...                 ...               ...                ...   \n",
      "6297              506.0            1378.5  139.3000030517578   \n",
      "6298              506.0            1378.5  139.3000030517578   \n",
      "6299              506.0            1378.5  139.3000030517578   \n",
      "6300              506.0            1378.5  139.3000030517578   \n",
      "0               SCMN.SW           PGHN.SW            SREN.SW   \n",
      "\n",
      "                Close.15            Close.16           Close.17  \\\n",
      "7561  234.32766723632812  466.62762451171875  394.2760925292969   \n",
      "7562  234.32766723632812  466.62762451171875  394.2760925292969   \n",
      "7563  234.32766723632812  466.62762451171875  394.2760925292969   \n",
      "7564  234.32766723632812  466.62762451171875  394.2760925292969   \n",
      "7565  234.32766723632812  466.62762451171875  394.2760925292969   \n",
      "...                  ...                 ...                ...   \n",
      "6297  305.20001220703125  503.20001220703125  741.4000244140625   \n",
      "6298  305.20001220703125  503.20001220703125  741.4000244140625   \n",
      "6299  305.20001220703125  503.20001220703125  741.4000244140625   \n",
      "6300  305.20001220703125  503.20001220703125  741.4000244140625   \n",
      "0                SOON.SW             GEBN.SW            SLHN.SW   \n",
      "\n",
      "                Close.18            Close.19 Daily Returns  \n",
      "7561  41.357234954833984   134.7190704345703           0.0  \n",
      "7562  41.357234954833984   134.7190704345703           0.0  \n",
      "7563  41.357234954833984   134.7190704345703           0.0  \n",
      "7564  41.357234954833984   134.7190704345703           0.0  \n",
      "7565  41.357234954833984   134.7190704345703           0.0  \n",
      "...                  ...                 ...           ...  \n",
      "6297   89.41999816894531  201.60000610351562           0.0  \n",
      "6298   89.41999816894531  201.60000610351562           0.0  \n",
      "6299   89.41999816894531  201.60000610351562           0.0  \n",
      "6300   89.41999816894531  201.60000610351562           0.0  \n",
      "0                LOGN.SW             KNIN.SW           0.0  \n",
      "\n",
      "[25201 rows x 23 columns]\n"
     ]
    }
   ],
   "source": [
    "print(smi_data)"
   ]
  },
  {
   "cell_type": "markdown",
   "metadata": {},
   "source": [
    "# STEP 2 - Calculate daily returns"
   ]
  },
  {
   "cell_type": "code",
   "execution_count": 6,
   "metadata": {},
   "outputs": [
    {
     "ename": "TypeError",
     "evalue": "unsupported operand type(s) for /: 'str' and 'str'",
     "output_type": "error",
     "traceback": [
      "\u001b[0;31m---------------------------------------------------------------------------\u001b[0m",
      "\u001b[0;31mTypeError\u001b[0m                                 Traceback (most recent call last)",
      "File \u001b[0;32m/Library/Frameworks/Python.framework/Versions/3.12/lib/python3.12/site-packages/pandas/core/ops/array_ops.py:218\u001b[0m, in \u001b[0;36m_na_arithmetic_op\u001b[0;34m(left, right, op, is_cmp)\u001b[0m\n\u001b[1;32m    217\u001b[0m \u001b[38;5;28;01mtry\u001b[39;00m:\n\u001b[0;32m--> 218\u001b[0m     result \u001b[38;5;241m=\u001b[39m \u001b[43mfunc\u001b[49m\u001b[43m(\u001b[49m\u001b[43mleft\u001b[49m\u001b[43m,\u001b[49m\u001b[43m \u001b[49m\u001b[43mright\u001b[49m\u001b[43m)\u001b[49m\n\u001b[1;32m    219\u001b[0m \u001b[38;5;28;01mexcept\u001b[39;00m \u001b[38;5;167;01mTypeError\u001b[39;00m:\n",
      "File \u001b[0;32m/Library/Frameworks/Python.framework/Versions/3.12/lib/python3.12/site-packages/pandas/core/computation/expressions.py:242\u001b[0m, in \u001b[0;36mevaluate\u001b[0;34m(op, a, b, use_numexpr)\u001b[0m\n\u001b[1;32m    240\u001b[0m     \u001b[38;5;28;01mif\u001b[39;00m use_numexpr:\n\u001b[1;32m    241\u001b[0m         \u001b[38;5;66;03m# error: \"None\" not callable\u001b[39;00m\n\u001b[0;32m--> 242\u001b[0m         \u001b[38;5;28;01mreturn\u001b[39;00m \u001b[43m_evaluate\u001b[49m\u001b[43m(\u001b[49m\u001b[43mop\u001b[49m\u001b[43m,\u001b[49m\u001b[43m \u001b[49m\u001b[43mop_str\u001b[49m\u001b[43m,\u001b[49m\u001b[43m \u001b[49m\u001b[43ma\u001b[49m\u001b[43m,\u001b[49m\u001b[43m \u001b[49m\u001b[43mb\u001b[49m\u001b[43m)\u001b[49m  \u001b[38;5;66;03m# type: ignore[misc]\u001b[39;00m\n\u001b[1;32m    243\u001b[0m \u001b[38;5;28;01mreturn\u001b[39;00m _evaluate_standard(op, op_str, a, b)\n",
      "File \u001b[0;32m/Library/Frameworks/Python.framework/Versions/3.12/lib/python3.12/site-packages/pandas/core/computation/expressions.py:73\u001b[0m, in \u001b[0;36m_evaluate_standard\u001b[0;34m(op, op_str, a, b)\u001b[0m\n\u001b[1;32m     72\u001b[0m     _store_test_result(\u001b[38;5;28;01mFalse\u001b[39;00m)\n\u001b[0;32m---> 73\u001b[0m \u001b[38;5;28;01mreturn\u001b[39;00m \u001b[43mop\u001b[49m\u001b[43m(\u001b[49m\u001b[43ma\u001b[49m\u001b[43m,\u001b[49m\u001b[43m \u001b[49m\u001b[43mb\u001b[49m\u001b[43m)\u001b[49m\n",
      "\u001b[0;31mTypeError\u001b[0m: unsupported operand type(s) for /: 'str' and 'float'",
      "\nDuring handling of the above exception, another exception occurred:\n",
      "\u001b[0;31mTypeError\u001b[0m                                 Traceback (most recent call last)",
      "Cell \u001b[0;32mIn[6], line 2\u001b[0m\n\u001b[1;32m      1\u001b[0m \u001b[38;5;66;03m# Create a new column for daily returns\u001b[39;00m\n\u001b[0;32m----> 2\u001b[0m smi_data[\u001b[38;5;124m'\u001b[39m\u001b[38;5;124mDaily Returns\u001b[39m\u001b[38;5;124m'\u001b[39m] \u001b[38;5;241m=\u001b[39m \u001b[43msmi_data\u001b[49m\u001b[38;5;241;43m.\u001b[39;49m\u001b[43mgroupby\u001b[49m\u001b[43m(\u001b[49m\u001b[38;5;124;43m'\u001b[39;49m\u001b[38;5;124;43mTicker\u001b[39;49m\u001b[38;5;124;43m'\u001b[39;49m\u001b[43m)\u001b[49m\u001b[43m[\u001b[49m\u001b[38;5;124;43m'\u001b[39;49m\u001b[38;5;124;43mClose\u001b[39;49m\u001b[38;5;124;43m'\u001b[39;49m\u001b[43m]\u001b[49m\u001b[38;5;241;43m.\u001b[39;49m\u001b[43mpct_change\u001b[49m\u001b[43m(\u001b[49m\u001b[43m)\u001b[49m\n\u001b[1;32m      4\u001b[0m \u001b[38;5;66;03m# Fill missing values in Daily Returns (if any) with zeros to maintain symmetry\u001b[39;00m\n\u001b[1;32m      5\u001b[0m smi_data[\u001b[38;5;124m'\u001b[39m\u001b[38;5;124mDaily Returns\u001b[39m\u001b[38;5;124m'\u001b[39m]\u001b[38;5;241m.\u001b[39mfillna(\u001b[38;5;241m0\u001b[39m, inplace\u001b[38;5;241m=\u001b[39m\u001b[38;5;28;01mTrue\u001b[39;00m)\n",
      "File \u001b[0;32m/Library/Frameworks/Python.framework/Versions/3.12/lib/python3.12/site-packages/pandas/core/groupby/groupby.py:5459\u001b[0m, in \u001b[0;36mGroupBy.pct_change\u001b[0;34m(self, periods, fill_method, limit, freq, axis)\u001b[0m\n\u001b[1;32m   5457\u001b[0m \u001b[38;5;28;01mif\u001b[39;00m \u001b[38;5;28mself\u001b[39m\u001b[38;5;241m.\u001b[39maxis \u001b[38;5;241m==\u001b[39m \u001b[38;5;241m1\u001b[39m:\n\u001b[1;32m   5458\u001b[0m     shifted \u001b[38;5;241m=\u001b[39m shifted\u001b[38;5;241m.\u001b[39mT\n\u001b[0;32m-> 5459\u001b[0m \u001b[38;5;28;01mreturn\u001b[39;00m (\u001b[43mfilled\u001b[49m\u001b[43m \u001b[49m\u001b[38;5;241;43m/\u001b[39;49m\u001b[43m \u001b[49m\u001b[43mshifted\u001b[49m) \u001b[38;5;241m-\u001b[39m \u001b[38;5;241m1\u001b[39m\n",
      "File \u001b[0;32m/Library/Frameworks/Python.framework/Versions/3.12/lib/python3.12/site-packages/pandas/core/ops/common.py:76\u001b[0m, in \u001b[0;36m_unpack_zerodim_and_defer.<locals>.new_method\u001b[0;34m(self, other)\u001b[0m\n\u001b[1;32m     72\u001b[0m             \u001b[38;5;28;01mreturn\u001b[39;00m \u001b[38;5;28mNotImplemented\u001b[39m\n\u001b[1;32m     74\u001b[0m other \u001b[38;5;241m=\u001b[39m item_from_zerodim(other)\n\u001b[0;32m---> 76\u001b[0m \u001b[38;5;28;01mreturn\u001b[39;00m \u001b[43mmethod\u001b[49m\u001b[43m(\u001b[49m\u001b[38;5;28;43mself\u001b[39;49m\u001b[43m,\u001b[49m\u001b[43m \u001b[49m\u001b[43mother\u001b[49m\u001b[43m)\u001b[49m\n",
      "File \u001b[0;32m/Library/Frameworks/Python.framework/Versions/3.12/lib/python3.12/site-packages/pandas/core/arraylike.py:210\u001b[0m, in \u001b[0;36mOpsMixin.__truediv__\u001b[0;34m(self, other)\u001b[0m\n\u001b[1;32m    208\u001b[0m \u001b[38;5;129m@unpack_zerodim_and_defer\u001b[39m(\u001b[38;5;124m\"\u001b[39m\u001b[38;5;124m__truediv__\u001b[39m\u001b[38;5;124m\"\u001b[39m)\n\u001b[1;32m    209\u001b[0m \u001b[38;5;28;01mdef\u001b[39;00m\u001b[38;5;250m \u001b[39m\u001b[38;5;21m__truediv__\u001b[39m(\u001b[38;5;28mself\u001b[39m, other):\n\u001b[0;32m--> 210\u001b[0m     \u001b[38;5;28;01mreturn\u001b[39;00m \u001b[38;5;28;43mself\u001b[39;49m\u001b[38;5;241;43m.\u001b[39;49m\u001b[43m_arith_method\u001b[49m\u001b[43m(\u001b[49m\u001b[43mother\u001b[49m\u001b[43m,\u001b[49m\u001b[43m \u001b[49m\u001b[43moperator\u001b[49m\u001b[38;5;241;43m.\u001b[39;49m\u001b[43mtruediv\u001b[49m\u001b[43m)\u001b[49m\n",
      "File \u001b[0;32m/Library/Frameworks/Python.framework/Versions/3.12/lib/python3.12/site-packages/pandas/core/series.py:6135\u001b[0m, in \u001b[0;36mSeries._arith_method\u001b[0;34m(self, other, op)\u001b[0m\n\u001b[1;32m   6133\u001b[0m \u001b[38;5;28;01mdef\u001b[39;00m\u001b[38;5;250m \u001b[39m\u001b[38;5;21m_arith_method\u001b[39m(\u001b[38;5;28mself\u001b[39m, other, op):\n\u001b[1;32m   6134\u001b[0m     \u001b[38;5;28mself\u001b[39m, other \u001b[38;5;241m=\u001b[39m \u001b[38;5;28mself\u001b[39m\u001b[38;5;241m.\u001b[39m_align_for_op(other)\n\u001b[0;32m-> 6135\u001b[0m     \u001b[38;5;28;01mreturn\u001b[39;00m \u001b[43mbase\u001b[49m\u001b[38;5;241;43m.\u001b[39;49m\u001b[43mIndexOpsMixin\u001b[49m\u001b[38;5;241;43m.\u001b[39;49m\u001b[43m_arith_method\u001b[49m\u001b[43m(\u001b[49m\u001b[38;5;28;43mself\u001b[39;49m\u001b[43m,\u001b[49m\u001b[43m \u001b[49m\u001b[43mother\u001b[49m\u001b[43m,\u001b[49m\u001b[43m \u001b[49m\u001b[43mop\u001b[49m\u001b[43m)\u001b[49m\n",
      "File \u001b[0;32m/Library/Frameworks/Python.framework/Versions/3.12/lib/python3.12/site-packages/pandas/core/base.py:1382\u001b[0m, in \u001b[0;36mIndexOpsMixin._arith_method\u001b[0;34m(self, other, op)\u001b[0m\n\u001b[1;32m   1379\u001b[0m     rvalues \u001b[38;5;241m=\u001b[39m np\u001b[38;5;241m.\u001b[39marange(rvalues\u001b[38;5;241m.\u001b[39mstart, rvalues\u001b[38;5;241m.\u001b[39mstop, rvalues\u001b[38;5;241m.\u001b[39mstep)\n\u001b[1;32m   1381\u001b[0m \u001b[38;5;28;01mwith\u001b[39;00m np\u001b[38;5;241m.\u001b[39merrstate(\u001b[38;5;28mall\u001b[39m\u001b[38;5;241m=\u001b[39m\u001b[38;5;124m\"\u001b[39m\u001b[38;5;124mignore\u001b[39m\u001b[38;5;124m\"\u001b[39m):\n\u001b[0;32m-> 1382\u001b[0m     result \u001b[38;5;241m=\u001b[39m \u001b[43mops\u001b[49m\u001b[38;5;241;43m.\u001b[39;49m\u001b[43marithmetic_op\u001b[49m\u001b[43m(\u001b[49m\u001b[43mlvalues\u001b[49m\u001b[43m,\u001b[49m\u001b[43m \u001b[49m\u001b[43mrvalues\u001b[49m\u001b[43m,\u001b[49m\u001b[43m \u001b[49m\u001b[43mop\u001b[49m\u001b[43m)\u001b[49m\n\u001b[1;32m   1384\u001b[0m \u001b[38;5;28;01mreturn\u001b[39;00m \u001b[38;5;28mself\u001b[39m\u001b[38;5;241m.\u001b[39m_construct_result(result, name\u001b[38;5;241m=\u001b[39mres_name)\n",
      "File \u001b[0;32m/Library/Frameworks/Python.framework/Versions/3.12/lib/python3.12/site-packages/pandas/core/ops/array_ops.py:283\u001b[0m, in \u001b[0;36marithmetic_op\u001b[0;34m(left, right, op)\u001b[0m\n\u001b[1;32m    279\u001b[0m     _bool_arith_check(op, left, right)  \u001b[38;5;66;03m# type: ignore[arg-type]\u001b[39;00m\n\u001b[1;32m    281\u001b[0m     \u001b[38;5;66;03m# error: Argument 1 to \"_na_arithmetic_op\" has incompatible type\u001b[39;00m\n\u001b[1;32m    282\u001b[0m     \u001b[38;5;66;03m# \"Union[ExtensionArray, ndarray[Any, Any]]\"; expected \"ndarray[Any, Any]\"\u001b[39;00m\n\u001b[0;32m--> 283\u001b[0m     res_values \u001b[38;5;241m=\u001b[39m \u001b[43m_na_arithmetic_op\u001b[49m\u001b[43m(\u001b[49m\u001b[43mleft\u001b[49m\u001b[43m,\u001b[49m\u001b[43m \u001b[49m\u001b[43mright\u001b[49m\u001b[43m,\u001b[49m\u001b[43m \u001b[49m\u001b[43mop\u001b[49m\u001b[43m)\u001b[49m  \u001b[38;5;66;03m# type: ignore[arg-type]\u001b[39;00m\n\u001b[1;32m    285\u001b[0m \u001b[38;5;28;01mreturn\u001b[39;00m res_values\n",
      "File \u001b[0;32m/Library/Frameworks/Python.framework/Versions/3.12/lib/python3.12/site-packages/pandas/core/ops/array_ops.py:227\u001b[0m, in \u001b[0;36m_na_arithmetic_op\u001b[0;34m(left, right, op, is_cmp)\u001b[0m\n\u001b[1;32m    219\u001b[0m \u001b[38;5;28;01mexcept\u001b[39;00m \u001b[38;5;167;01mTypeError\u001b[39;00m:\n\u001b[1;32m    220\u001b[0m     \u001b[38;5;28;01mif\u001b[39;00m \u001b[38;5;129;01mnot\u001b[39;00m is_cmp \u001b[38;5;129;01mand\u001b[39;00m (\n\u001b[1;32m    221\u001b[0m         left\u001b[38;5;241m.\u001b[39mdtype \u001b[38;5;241m==\u001b[39m \u001b[38;5;28mobject\u001b[39m \u001b[38;5;129;01mor\u001b[39;00m \u001b[38;5;28mgetattr\u001b[39m(right, \u001b[38;5;124m\"\u001b[39m\u001b[38;5;124mdtype\u001b[39m\u001b[38;5;124m\"\u001b[39m, \u001b[38;5;28;01mNone\u001b[39;00m) \u001b[38;5;241m==\u001b[39m \u001b[38;5;28mobject\u001b[39m\n\u001b[1;32m    222\u001b[0m     ):\n\u001b[0;32m   (...)\u001b[0m\n\u001b[1;32m    225\u001b[0m         \u001b[38;5;66;03m# Don't do this for comparisons, as that will handle complex numbers\u001b[39;00m\n\u001b[1;32m    226\u001b[0m         \u001b[38;5;66;03m#  incorrectly, see GH#32047\u001b[39;00m\n\u001b[0;32m--> 227\u001b[0m         result \u001b[38;5;241m=\u001b[39m \u001b[43m_masked_arith_op\u001b[49m\u001b[43m(\u001b[49m\u001b[43mleft\u001b[49m\u001b[43m,\u001b[49m\u001b[43m \u001b[49m\u001b[43mright\u001b[49m\u001b[43m,\u001b[49m\u001b[43m \u001b[49m\u001b[43mop\u001b[49m\u001b[43m)\u001b[49m\n\u001b[1;32m    228\u001b[0m     \u001b[38;5;28;01melse\u001b[39;00m:\n\u001b[1;32m    229\u001b[0m         \u001b[38;5;28;01mraise\u001b[39;00m\n",
      "File \u001b[0;32m/Library/Frameworks/Python.framework/Versions/3.12/lib/python3.12/site-packages/pandas/core/ops/array_ops.py:163\u001b[0m, in \u001b[0;36m_masked_arith_op\u001b[0;34m(x, y, op)\u001b[0m\n\u001b[1;32m    161\u001b[0m     \u001b[38;5;66;03m# See GH#5284, GH#5035, GH#19448 for historical reference\u001b[39;00m\n\u001b[1;32m    162\u001b[0m     \u001b[38;5;28;01mif\u001b[39;00m mask\u001b[38;5;241m.\u001b[39many():\n\u001b[0;32m--> 163\u001b[0m         result[mask] \u001b[38;5;241m=\u001b[39m \u001b[43mop\u001b[49m\u001b[43m(\u001b[49m\u001b[43mxrav\u001b[49m\u001b[43m[\u001b[49m\u001b[43mmask\u001b[49m\u001b[43m]\u001b[49m\u001b[43m,\u001b[49m\u001b[43m \u001b[49m\u001b[43myrav\u001b[49m\u001b[43m[\u001b[49m\u001b[43mmask\u001b[49m\u001b[43m]\u001b[49m\u001b[43m)\u001b[49m\n\u001b[1;32m    165\u001b[0m \u001b[38;5;28;01melse\u001b[39;00m:\n\u001b[1;32m    166\u001b[0m     \u001b[38;5;28;01mif\u001b[39;00m \u001b[38;5;129;01mnot\u001b[39;00m is_scalar(y):\n",
      "\u001b[0;31mTypeError\u001b[0m: unsupported operand type(s) for /: 'str' and 'str'"
     ]
    }
   ],
   "source": [
    "# Create a new column for daily returns\n",
    "smi_data['Daily Returns'] = smi_data.groupby('Ticker')['Close'].pct_change()\n",
    "\n",
    "# Fill missing values in Daily Returns (if any) with zeros to maintain symmetry\n",
    "smi_data['Daily Returns'].fillna(0, inplace=True)\n",
    "\n",
    "# Display the processed data\n",
    "print(smi_data)"
   ]
  },
  {
   "cell_type": "code",
   "execution_count": null,
   "metadata": {},
   "outputs": [],
   "source": []
  }
 ],
 "metadata": {
  "kernelspec": {
   "display_name": "Python 3",
   "language": "python",
   "name": "python3"
  },
  "language_info": {
   "codemirror_mode": {
    "name": "ipython",
    "version": 3
   },
   "file_extension": ".py",
   "mimetype": "text/x-python",
   "name": "python",
   "nbconvert_exporter": "python",
   "pygments_lexer": "ipython3",
   "version": "3.12.8"
  }
 },
 "nbformat": 4,
 "nbformat_minor": 2
}
