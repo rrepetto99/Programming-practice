{
 "cells": [
  {
   "cell_type": "code",
   "execution_count": 1,
   "metadata": {},
   "outputs": [],
   "source": [
    "import pandas as pd\n",
    "import yfinance as yf\n",
    "import numpy as np\n",
    "from scipy import stats\n",
    "import math\n",
    "import matplotlib.pyplot as plt "
   ]
  },
  {
   "cell_type": "code",
   "execution_count": 8,
   "metadata": {},
   "outputs": [
    {
     "data": {
      "text/html": [
       "<div>\n",
       "<style scoped>\n",
       "    .dataframe tbody tr th:only-of-type {\n",
       "        vertical-align: middle;\n",
       "    }\n",
       "\n",
       "    .dataframe tbody tr th {\n",
       "        vertical-align: top;\n",
       "    }\n",
       "\n",
       "    .dataframe thead th {\n",
       "        text-align: right;\n",
       "    }\n",
       "</style>\n",
       "<table border=\"1\" class=\"dataframe\">\n",
       "  <thead>\n",
       "    <tr style=\"text-align: right;\">\n",
       "      <th></th>\n",
       "      <th>Player Name</th>\n",
       "      <th>Sport</th>\n",
       "      <th>Team</th>\n",
       "      <th>Age</th>\n",
       "      <th>Height (cm)</th>\n",
       "      <th>Weight (kg)</th>\n",
       "      <th>Games Played</th>\n",
       "      <th>Average Score per Game</th>\n",
       "      <th>Win Percentage</th>\n",
       "    </tr>\n",
       "  </thead>\n",
       "  <tbody>\n",
       "    <tr>\n",
       "      <th>0</th>\n",
       "      <td>Thomas Rodriguez</td>\n",
       "      <td>Soccer</td>\n",
       "      <td>Man United</td>\n",
       "      <td>23</td>\n",
       "      <td>203</td>\n",
       "      <td>119</td>\n",
       "      <td>48</td>\n",
       "      <td>16.8</td>\n",
       "      <td>58.9</td>\n",
       "    </tr>\n",
       "    <tr>\n",
       "      <th>1</th>\n",
       "      <td>Charles Rodriguez</td>\n",
       "      <td>Soccer</td>\n",
       "      <td>Bayern</td>\n",
       "      <td>18</td>\n",
       "      <td>183</td>\n",
       "      <td>114</td>\n",
       "      <td>77</td>\n",
       "      <td>22.3</td>\n",
       "      <td>49.0</td>\n",
       "    </tr>\n",
       "    <tr>\n",
       "      <th>2</th>\n",
       "      <td>Joseph Davis</td>\n",
       "      <td>Basketball</td>\n",
       "      <td>Warriors</td>\n",
       "      <td>39</td>\n",
       "      <td>200</td>\n",
       "      <td>107</td>\n",
       "      <td>38</td>\n",
       "      <td>20.1</td>\n",
       "      <td>45.3</td>\n",
       "    </tr>\n",
       "    <tr>\n",
       "      <th>3</th>\n",
       "      <td>John Brown</td>\n",
       "      <td>Soccer</td>\n",
       "      <td>Real Madrid</td>\n",
       "      <td>31</td>\n",
       "      <td>203</td>\n",
       "      <td>64</td>\n",
       "      <td>65</td>\n",
       "      <td>27.9</td>\n",
       "      <td>76.0</td>\n",
       "    </tr>\n",
       "    <tr>\n",
       "      <th>4</th>\n",
       "      <td>James Rodriguez</td>\n",
       "      <td>Tennis</td>\n",
       "      <td>-</td>\n",
       "      <td>18</td>\n",
       "      <td>195</td>\n",
       "      <td>80</td>\n",
       "      <td>18</td>\n",
       "      <td>26.1</td>\n",
       "      <td>61.7</td>\n",
       "    </tr>\n",
       "  </tbody>\n",
       "</table>\n",
       "</div>"
      ],
      "text/plain": [
       "         Player Name       Sport         Team  Age  Height (cm)  Weight (kg)  \\\n",
       "0   Thomas Rodriguez      Soccer   Man United   23          203          119   \n",
       "1  Charles Rodriguez      Soccer       Bayern   18          183          114   \n",
       "2       Joseph Davis  Basketball     Warriors   39          200          107   \n",
       "3         John Brown      Soccer  Real Madrid   31          203           64   \n",
       "4    James Rodriguez      Tennis            -   18          195           80   \n",
       "\n",
       "   Games Played  Average Score per Game  Win Percentage  \n",
       "0            48                    16.8            58.9  \n",
       "1            77                    22.3            49.0  \n",
       "2            38                    20.1            45.3  \n",
       "3            65                    27.9            76.0  \n",
       "4            18                    26.1            61.7  "
      ]
     },
     "execution_count": 8,
     "metadata": {},
     "output_type": "execute_result"
    }
   ],
   "source": [
    "df = pd.read_csv('./Datasets/sports_dataset.csv')\n",
    "df.head()"
   ]
  },
  {
   "cell_type": "code",
   "execution_count": 10,
   "metadata": {},
   "outputs": [],
   "source": [
    "#We will examine slicing and subsetting of the dataset\n",
    "#df.iloc[2:5, 1:4] - from 2nd to 4th row and from 1st to 3rd column"
   ]
  },
  {
   "cell_type": "code",
   "execution_count": null,
   "metadata": {},
   "outputs": [],
   "source": []
  }
 ],
 "metadata": {
  "kernelspec": {
   "display_name": "Python 3",
   "language": "python",
   "name": "python3"
  },
  "language_info": {
   "codemirror_mode": {
    "name": "ipython",
    "version": 3
   },
   "file_extension": ".py",
   "mimetype": "text/x-python",
   "name": "python",
   "nbconvert_exporter": "python",
   "pygments_lexer": "ipython3",
   "version": "3.12.8"
  }
 },
 "nbformat": 4,
 "nbformat_minor": 2
}
